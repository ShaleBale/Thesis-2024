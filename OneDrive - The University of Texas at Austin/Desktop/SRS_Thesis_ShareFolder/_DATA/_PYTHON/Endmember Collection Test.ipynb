{
 "cells": [
  {
   "cell_type": "code",
   "execution_count": 1,
   "id": "20dd2810",
   "metadata": {},
   "outputs": [],
   "source": [
    "import os\n",
    "import pandas as pd\n",
    "import matplotlib.pyplot as plt\n",
    "import matplotlib.cm as cm\n",
    "from itertools import cycle\n",
    "import numpy as np \n",
    "import plotly.express as px\n",
    "from matplotlib.lines import Line2D\n",
    "import seaborn as sns\n",
    "from sklearn.cluster import KMeans"
   ]
  },
  {
   "cell_type": "code",
   "execution_count": 2,
   "id": "1d826839",
   "metadata": {},
   "outputs": [],
   "source": [
    "file_path = r'C:\\Users\\shlbs\\OneDrive - The University of Texas at Austin\\Desktop\\SRS_Thesis_ShareFolder\\_DATA\\_AOIs\\_CORNUDAS\\_FIELD SPEC\\Rock_Type_March2024\\FINAL_Cluster_AVERAGES.csv'"
   ]
  },
  {
   "cell_type": "code",
   "execution_count": 3,
   "id": "b40bab67",
   "metadata": {},
   "outputs": [],
   "source": [
    "df = pd.read_csv(file_path)"
   ]
  },
  {
   "cell_type": "code",
   "execution_count": 4,
   "id": "699e5173",
   "metadata": {
    "scrolled": true
   },
   "outputs": [
    {
     "data": {
      "text/html": [
       "<div>\n",
       "<style scoped>\n",
       "    .dataframe tbody tr th:only-of-type {\n",
       "        vertical-align: middle;\n",
       "    }\n",
       "\n",
       "    .dataframe tbody tr th {\n",
       "        vertical-align: top;\n",
       "    }\n",
       "\n",
       "    .dataframe thead th {\n",
       "        text-align: right;\n",
       "    }\n",
       "</style>\n",
       "<table border=\"1\" class=\"dataframe\">\n",
       "  <thead>\n",
       "    <tr style=\"text-align: right;\">\n",
       "      <th></th>\n",
       "      <th>Cluster</th>\n",
       "      <th>Wavelength (nm)</th>\n",
       "      <th>Average Reflectance</th>\n",
       "    </tr>\n",
       "  </thead>\n",
       "  <tbody>\n",
       "    <tr>\n",
       "      <th>0</th>\n",
       "      <td>Igneous Cluster 0</td>\n",
       "      <td>350.0</td>\n",
       "      <td>0.336777</td>\n",
       "    </tr>\n",
       "    <tr>\n",
       "      <th>1</th>\n",
       "      <td>Igneous Cluster 0</td>\n",
       "      <td>351.0</td>\n",
       "      <td>0.335968</td>\n",
       "    </tr>\n",
       "    <tr>\n",
       "      <th>2</th>\n",
       "      <td>Igneous Cluster 0</td>\n",
       "      <td>352.0</td>\n",
       "      <td>0.335113</td>\n",
       "    </tr>\n",
       "    <tr>\n",
       "      <th>3</th>\n",
       "      <td>Igneous Cluster 0</td>\n",
       "      <td>353.0</td>\n",
       "      <td>0.334530</td>\n",
       "    </tr>\n",
       "    <tr>\n",
       "      <th>4</th>\n",
       "      <td>Igneous Cluster 0</td>\n",
       "      <td>354.0</td>\n",
       "      <td>0.334225</td>\n",
       "    </tr>\n",
       "  </tbody>\n",
       "</table>\n",
       "</div>"
      ],
      "text/plain": [
       "             Cluster  Wavelength (nm)  Average Reflectance\n",
       "0  Igneous Cluster 0            350.0             0.336777\n",
       "1  Igneous Cluster 0            351.0             0.335968\n",
       "2  Igneous Cluster 0            352.0             0.335113\n",
       "3  Igneous Cluster 0            353.0             0.334530\n",
       "4  Igneous Cluster 0            354.0             0.334225"
      ]
     },
     "execution_count": 4,
     "metadata": {},
     "output_type": "execute_result"
    }
   ],
   "source": [
    "df.head()"
   ]
  },
  {
   "cell_type": "code",
   "execution_count": 5,
   "id": "c370d147",
   "metadata": {},
   "outputs": [],
   "source": [
    "# Pivot the DataFrame\n",
    "pivot_df = df.pivot(index='Wavelength (nm)', columns='Cluster', values='Average Reflectance')\n",
    "\n",
    "# Reset the index to turn the index into a column\n",
    "pivot_df.reset_index(inplace=True)\n"
   ]
  },
  {
   "cell_type": "code",
   "execution_count": 6,
   "id": "68a98fef",
   "metadata": {},
   "outputs": [
    {
     "data": {
      "text/html": [
       "<div>\n",
       "<style scoped>\n",
       "    .dataframe tbody tr th:only-of-type {\n",
       "        vertical-align: middle;\n",
       "    }\n",
       "\n",
       "    .dataframe tbody tr th {\n",
       "        vertical-align: top;\n",
       "    }\n",
       "\n",
       "    .dataframe thead th {\n",
       "        text-align: right;\n",
       "    }\n",
       "</style>\n",
       "<table border=\"1\" class=\"dataframe\">\n",
       "  <thead>\n",
       "    <tr style=\"text-align: right;\">\n",
       "      <th>Cluster</th>\n",
       "      <th>Wavelength (nm)</th>\n",
       "      <th>Igneous Cluster 0</th>\n",
       "      <th>Igneous Cluster 1</th>\n",
       "      <th>Sedimentary Cluster 0</th>\n",
       "      <th>Sedimentary Cluster 1</th>\n",
       "      <th>Sedimentary Cluster 2</th>\n",
       "      <th>Sedimentary Cluster 3</th>\n",
       "    </tr>\n",
       "  </thead>\n",
       "  <tbody>\n",
       "    <tr>\n",
       "      <th>0</th>\n",
       "      <td>350.0</td>\n",
       "      <td>0.336777</td>\n",
       "      <td>0.304562</td>\n",
       "      <td>0.299392</td>\n",
       "      <td>0.581259</td>\n",
       "      <td>0.865338</td>\n",
       "      <td>0.381456</td>\n",
       "    </tr>\n",
       "    <tr>\n",
       "      <th>1</th>\n",
       "      <td>351.0</td>\n",
       "      <td>0.335968</td>\n",
       "      <td>0.304465</td>\n",
       "      <td>0.297978</td>\n",
       "      <td>0.584764</td>\n",
       "      <td>0.871168</td>\n",
       "      <td>0.379311</td>\n",
       "    </tr>\n",
       "    <tr>\n",
       "      <th>2</th>\n",
       "      <td>352.0</td>\n",
       "      <td>0.335113</td>\n",
       "      <td>0.302008</td>\n",
       "      <td>0.297699</td>\n",
       "      <td>0.581938</td>\n",
       "      <td>0.878574</td>\n",
       "      <td>0.377646</td>\n",
       "    </tr>\n",
       "    <tr>\n",
       "      <th>3</th>\n",
       "      <td>353.0</td>\n",
       "      <td>0.334530</td>\n",
       "      <td>0.301420</td>\n",
       "      <td>0.295362</td>\n",
       "      <td>0.580653</td>\n",
       "      <td>0.877287</td>\n",
       "      <td>0.376631</td>\n",
       "    </tr>\n",
       "    <tr>\n",
       "      <th>4</th>\n",
       "      <td>354.0</td>\n",
       "      <td>0.334225</td>\n",
       "      <td>0.301402</td>\n",
       "      <td>0.293005</td>\n",
       "      <td>0.580642</td>\n",
       "      <td>0.872184</td>\n",
       "      <td>0.375586</td>\n",
       "    </tr>\n",
       "  </tbody>\n",
       "</table>\n",
       "</div>"
      ],
      "text/plain": [
       "Cluster  Wavelength (nm)  Igneous Cluster 0  Igneous Cluster 1   \n",
       "0                  350.0           0.336777           0.304562  \\\n",
       "1                  351.0           0.335968           0.304465   \n",
       "2                  352.0           0.335113           0.302008   \n",
       "3                  353.0           0.334530           0.301420   \n",
       "4                  354.0           0.334225           0.301402   \n",
       "\n",
       "Cluster  Sedimentary Cluster 0  Sedimentary Cluster 1  Sedimentary Cluster 2   \n",
       "0                     0.299392               0.581259               0.865338  \\\n",
       "1                     0.297978               0.584764               0.871168   \n",
       "2                     0.297699               0.581938               0.878574   \n",
       "3                     0.295362               0.580653               0.877287   \n",
       "4                     0.293005               0.580642               0.872184   \n",
       "\n",
       "Cluster  Sedimentary Cluster 3  \n",
       "0                     0.381456  \n",
       "1                     0.379311  \n",
       "2                     0.377646  \n",
       "3                     0.376631  \n",
       "4                     0.375586  "
      ]
     },
     "execution_count": 6,
     "metadata": {},
     "output_type": "execute_result"
    }
   ],
   "source": [
    "pivot_df.head()"
   ]
  },
  {
   "cell_type": "code",
   "execution_count": 10,
   "id": "1694b21b",
   "metadata": {},
   "outputs": [],
   "source": [
    "# Define the output file path\n",
    "output_file = r'C:\\Users\\shlbs\\OneDrive - The University of Texas at Austin\\Desktop\\SRS_Thesis_ShareFolder\\_DATA\\_AOIs\\_CORNUDAS\\_FIELD SPEC\\Endmember\\endmembers_v2.txt'\n",
    "\n",
    "# Write to ASCII file with custom header\n",
    "with open(output_file, 'w') as f:\n",
    "    # Write a custom header\n",
    "    f.write('ENVI ASCII Plot File \\n')\n",
    "    f.write('Column 1: Wavelength\\n')\n",
    "    for i, column in enumerate(pivot_df.columns[1:], start=2):\n",
    "        f.write(f'Column {i}: {column}\\n')\n",
    "    \n",
    "    # Write the DataFrame to the file\n",
    "    pivot_df.to_csv(f, sep=' ', index=False, header=False, float_format='%.6f')"
   ]
  },
  {
   "cell_type": "code",
   "execution_count": null,
   "id": "24101c67",
   "metadata": {},
   "outputs": [],
   "source": []
  },
  {
   "cell_type": "code",
   "execution_count": null,
   "id": "90487cfb",
   "metadata": {},
   "outputs": [],
   "source": [
    "UniqueClusters = df.Cluster.unique()"
   ]
  },
  {
   "cell_type": "code",
   "execution_count": null,
   "id": "5bead817",
   "metadata": {},
   "outputs": [],
   "source": [
    "print(UniqueClusters)"
   ]
  },
  {
   "cell_type": "code",
   "execution_count": null,
   "id": "74edac8a",
   "metadata": {},
   "outputs": [],
   "source": [
    "DataFrameDict = {elem : pd.DataFrame() for elem in UniqueClusters}\n",
    "\n",
    "for key in DataFrameDict.keys():\n",
    "    DataFrameDict[key] = df[:][df.Cluster == key]"
   ]
  },
  {
   "cell_type": "code",
   "execution_count": null,
   "id": "a2ec7df6",
   "metadata": {},
   "outputs": [],
   "source": [
    "igneous_0 = DataFrameDict['Igneous Cluster 0']\n"
   ]
  },
  {
   "cell_type": "code",
   "execution_count": null,
   "id": "5c111469",
   "metadata": {},
   "outputs": [],
   "source": [
    "sorted_igneous_0 = igneous_0.sort_values(by='Wavelength (nm)')"
   ]
  },
  {
   "cell_type": "code",
   "execution_count": null,
   "id": "5f4b4d56",
   "metadata": {},
   "outputs": [],
   "source": [
    "sorted_igneous_0.head()"
   ]
  },
  {
   "cell_type": "code",
   "execution_count": null,
   "id": "b7f0abfa",
   "metadata": {},
   "outputs": [],
   "source": [
    "# Pivot the DataFrame\n",
    "pivot_df = df.pivot(index='Wavelength (nm)', columns='Cluster', values='Average Reflectance')\n",
    "\n",
    "# Reset the index to turn the index into a column\n",
    "pivot_df.reset_index(inplace=True)\n",
    "\n",
    "# Define the output file path\n",
    "output_file = 'endmembers.txt'\n",
    "\n",
    "# Write to ASCII file with custom header\n",
    "with open(output_file, 'w') as f:\n",
    "    # Write a custom header\n",
    "    f.write('; ENVI Endmember ASCII File\\n')\n",
    "    f.write('; Wavelength (nm) ' + ' '.join(pivot_df.columns[1:]) + '\\n')\n",
    "\n",
    "    # Write the DataFrame to the file\n",
    "    pivot_df.to_csv(f, sep=' ', index=False, header=True)"
   ]
  }
 ],
 "metadata": {
  "kernelspec": {
   "display_name": "Python 3 (ipykernel)",
   "language": "python",
   "name": "python3"
  },
  "language_info": {
   "codemirror_mode": {
    "name": "ipython",
    "version": 3
   },
   "file_extension": ".py",
   "mimetype": "text/x-python",
   "name": "python",
   "nbconvert_exporter": "python",
   "pygments_lexer": "ipython3",
   "version": "3.10.9"
  }
 },
 "nbformat": 4,
 "nbformat_minor": 5
}
