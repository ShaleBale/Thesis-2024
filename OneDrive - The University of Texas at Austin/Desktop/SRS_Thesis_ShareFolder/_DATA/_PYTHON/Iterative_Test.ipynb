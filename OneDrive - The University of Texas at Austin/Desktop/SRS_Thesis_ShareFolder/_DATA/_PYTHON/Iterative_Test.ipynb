{
 "cells": [
  {
   "cell_type": "code",
   "execution_count": 4,
   "id": "af7639fb",
   "metadata": {},
   "outputs": [],
   "source": [
    "import os\n",
    "import shutil\n",
    "import matplotlib.pyplot as plt\n",
    "import numpy as np\n",
    "import pandas as pd"
   ]
  },
  {
   "cell_type": "code",
   "execution_count": 8,
   "id": "922af579",
   "metadata": {},
   "outputs": [],
   "source": [
    "main_folder = r'C:\\Users\\shlbs\\OneDrive - The University of Texas at Austin\\Desktop\\SierraBlanca_Processed_FieldSpec'"
   ]
  },
  {
   "cell_type": "code",
   "execution_count": 9,
   "id": "92a30741",
   "metadata": {},
   "outputs": [
    {
     "name": "stdout",
     "output_type": "stream",
     "text": [
      "Processing folder: C:\\Users\\shlbs\\OneDrive - The University of Texas at Austin\\Desktop\\SierraBlanca_Processed_FieldSpec\\G1\n",
      "Processed folder G1 and saved results to C:\\Users\\shlbs\\OneDrive - The University of Texas at Austin\\Desktop\\SierraBlanca_Processed_FieldSpec\\G1\\G1_Average.csv\n",
      "\n",
      "Processing folder: C:\\Users\\shlbs\\OneDrive - The University of Texas at Austin\\Desktop\\SierraBlanca_Processed_FieldSpec\\ORT248-13\n",
      "Processed folder ORT248-13 and saved results to C:\\Users\\shlbs\\OneDrive - The University of Texas at Austin\\Desktop\\SierraBlanca_Processed_FieldSpec\\ORT248-13\\ORT248-13_Average.csv\n",
      "\n",
      "Processing folder: C:\\Users\\shlbs\\OneDrive - The University of Texas at Austin\\Desktop\\SierraBlanca_Processed_FieldSpec\\ORT262-01\n",
      "Processed folder ORT262-01 and saved results to C:\\Users\\shlbs\\OneDrive - The University of Texas at Austin\\Desktop\\SierraBlanca_Processed_FieldSpec\\ORT262-01\\ORT262-01_Average.csv\n",
      "\n",
      "Processing folder: C:\\Users\\shlbs\\OneDrive - The University of Texas at Austin\\Desktop\\SierraBlanca_Processed_FieldSpec\\ORT263-02\n",
      "Processed folder ORT263-02 and saved results to C:\\Users\\shlbs\\OneDrive - The University of Texas at Austin\\Desktop\\SierraBlanca_Processed_FieldSpec\\ORT263-02\\ORT263-02_Average.csv\n",
      "\n",
      "Processing folder: C:\\Users\\shlbs\\OneDrive - The University of Texas at Austin\\Desktop\\SierraBlanca_Processed_FieldSpec\\ORT266-01\n",
      "Processed folder ORT266-01 and saved results to C:\\Users\\shlbs\\OneDrive - The University of Texas at Austin\\Desktop\\SierraBlanca_Processed_FieldSpec\\ORT266-01\\ORT266-01_Average.csv\n",
      "\n",
      "Processing folder: C:\\Users\\shlbs\\OneDrive - The University of Texas at Austin\\Desktop\\SierraBlanca_Processed_FieldSpec\\ORT270-02\n",
      "Processed folder ORT270-02 and saved results to C:\\Users\\shlbs\\OneDrive - The University of Texas at Austin\\Desktop\\SierraBlanca_Processed_FieldSpec\\ORT270-02\\ORT270-02_Average.csv\n",
      "\n",
      "Processing folder: C:\\Users\\shlbs\\OneDrive - The University of Texas at Austin\\Desktop\\SierraBlanca_Processed_FieldSpec\\ORT270-03\n",
      "Processed folder ORT270-03 and saved results to C:\\Users\\shlbs\\OneDrive - The University of Texas at Austin\\Desktop\\SierraBlanca_Processed_FieldSpec\\ORT270-03\\ORT270-03_Average.csv\n",
      "\n",
      "Processing folder: C:\\Users\\shlbs\\OneDrive - The University of Texas at Austin\\Desktop\\SierraBlanca_Processed_FieldSpec\\ORT270-14\n",
      "Processed folder ORT270-14 and saved results to C:\\Users\\shlbs\\OneDrive - The University of Texas at Austin\\Desktop\\SierraBlanca_Processed_FieldSpec\\ORT270-14\\ORT270-14_Average.csv\n",
      "\n",
      "Processing folder: C:\\Users\\shlbs\\OneDrive - The University of Texas at Austin\\Desktop\\SierraBlanca_Processed_FieldSpec\\ORT33-02\n",
      "Processed folder ORT33-02 and saved results to C:\\Users\\shlbs\\OneDrive - The University of Texas at Austin\\Desktop\\SierraBlanca_Processed_FieldSpec\\ORT33-02\\ORT33-02_Average.csv\n",
      "\n",
      "Processing folder: C:\\Users\\shlbs\\OneDrive - The University of Texas at Austin\\Desktop\\SierraBlanca_Processed_FieldSpec\\ORT37-01\n",
      "Processed folder ORT37-01 and saved results to C:\\Users\\shlbs\\OneDrive - The University of Texas at Austin\\Desktop\\SierraBlanca_Processed_FieldSpec\\ORT37-01\\ORT37-01_Average.csv\n",
      "\n",
      "Processing folder: C:\\Users\\shlbs\\OneDrive - The University of Texas at Austin\\Desktop\\SierraBlanca_Processed_FieldSpec\\ORT41-01\n",
      "Processed folder ORT41-01 and saved results to C:\\Users\\shlbs\\OneDrive - The University of Texas at Austin\\Desktop\\SierraBlanca_Processed_FieldSpec\\ORT41-01\\ORT41-01_Average.csv\n",
      "\n",
      "Processing folder: C:\\Users\\shlbs\\OneDrive - The University of Texas at Austin\\Desktop\\SierraBlanca_Processed_FieldSpec\\ORT43-04\n",
      "Processed folder ORT43-04 and saved results to C:\\Users\\shlbs\\OneDrive - The University of Texas at Austin\\Desktop\\SierraBlanca_Processed_FieldSpec\\ORT43-04\\ORT43-04_Average.csv\n",
      "\n",
      "No file found in folder: C:\\Users\\shlbs\\OneDrive - The University of Texas at Austin\\Desktop\\SierraBlanca_Processed_FieldSpec\\ORT44-20\n",
      "Processing folder: C:\\Users\\shlbs\\OneDrive - The University of Texas at Austin\\Desktop\\SierraBlanca_Processed_FieldSpec\\ORT44-21\n",
      "Processed folder ORT44-21 and saved results to C:\\Users\\shlbs\\OneDrive - The University of Texas at Austin\\Desktop\\SierraBlanca_Processed_FieldSpec\\ORT44-21\\ORT44-21_Average.csv\n",
      "\n",
      "Processing folder: C:\\Users\\shlbs\\OneDrive - The University of Texas at Austin\\Desktop\\SierraBlanca_Processed_FieldSpec\\ORT46-01\n",
      "Processed folder ORT46-01 and saved results to C:\\Users\\shlbs\\OneDrive - The University of Texas at Austin\\Desktop\\SierraBlanca_Processed_FieldSpec\\ORT46-01\\ORT46-01_Average.csv\n",
      "\n"
     ]
    }
   ],
   "source": [
    "for root, dirs, files in os.walk(main_folder):\n",
    "    for folder in dirs:\n",
    "        folder_path = os.path.join(root, folder)\n",
    "        file_path = os.path.join(folder_path, f'{folder}_Processed.dat')  # Adjust the filename as needed\n",
    "\n",
    "        # Check if the file exists in the current folder\n",
    "        if os.path.isfile(file_path):\n",
    "            print(f\"Processing folder: {folder_path}\")\n",
    "\n",
    "            # Your existing code for data analysis and plotting\n",
    "            encoding = 'UTF-16'\n",
    "            \n",
    "            # Read the CSV file without a header\n",
    "            df = pd.read_csv(file_path, delimiter=',', encoding=encoding, header=None)\n",
    "            \n",
    "            # Renaming the columns as you did originally\n",
    "            column_names = ['Unique ID', 'Iteration', 'Wavelength', 'Absolute_Reflectance']\n",
    "            df.columns = column_names\n",
    "            \n",
    "            # ... (rest of your code)\n",
    "\n",
    "            # Export the average signature to a CSV file in the current folder\n",
    "            average_signature = df.groupby('Wavelength')['Absolute_Reflectance'].mean().reset_index()\n",
    "            average_signature.columns = ['Wavelength (nm)', 'Average Reflectance']\n",
    "            average_csv_path = os.path.join(folder_path, f'{folder}_Average.csv')  # Adjust the filename as needed\n",
    "            average_signature.to_csv(average_csv_path, index=False)\n",
    "\n",
    "            print(f\"Processed folder {folder} and saved results to {average_csv_path}\\n\")\n",
    "        else:\n",
    "            print(f\"No file found in folder: {folder_path}\")"
   ]
  },
  {
   "cell_type": "code",
   "execution_count": null,
   "id": "191da25c",
   "metadata": {},
   "outputs": [],
   "source": []
  }
 ],
 "metadata": {
  "kernelspec": {
   "display_name": "Python 3 (ipykernel)",
   "language": "python",
   "name": "python3"
  },
  "language_info": {
   "codemirror_mode": {
    "name": "ipython",
    "version": 3
   },
   "file_extension": ".py",
   "mimetype": "text/x-python",
   "name": "python",
   "nbconvert_exporter": "python",
   "pygments_lexer": "ipython3",
   "version": "3.10.9"
  }
 },
 "nbformat": 4,
 "nbformat_minor": 5
}
